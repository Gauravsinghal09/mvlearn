{
 "cells": [
  {
   "cell_type": "markdown",
   "metadata": {},
   "source": [
    "# Use mv_data_split() to obtain train and test subsets of data"
   ]
  },
  {
   "cell_type": "markdown",
   "metadata": {},
   "source": [
    "### Obtaining train-test splits of multi-view data\n",
    "This example illustrates how we can use mv_data_split to quickly obtain training and testing subsets of multi-view data."
   ]
  },
  {
   "cell_type": "code",
   "execution_count": 1,
   "metadata": {},
   "outputs": [],
   "source": [
    "# Import relevant packages\n",
    "from mvlearn.preprocessing import mv_data_split\n",
    "import numpy as np\n",
    "\n",
    "# Setting random seed\n",
    "RANDOM_STATE = 10\n",
    "np.random.seed(RANDOM_STATE)"
   ]
  },
  {
   "cell_type": "code",
   "execution_count": 2,
   "metadata": {},
   "outputs": [
    {
     "name": "stdout",
     "output_type": "stream",
     "text": [
      "[[[ 0  1]\n",
      "  [ 2  3]\n",
      "  [ 4  5]]\n",
      "\n",
      " [[ 6  7]\n",
      "  [ 8  9]\n",
      "  [10 11]]\n",
      "\n",
      " [[12 13]\n",
      "  [14 15]\n",
      "  [16 17]]]\n"
     ]
    }
   ],
   "source": [
    "# Creating multi-view data with 3 views\n",
    "data = np.arange(18).reshape((3, 3, 2))\n",
    "print(data)"
   ]
  },
  {
   "cell_type": "code",
   "execution_count": 3,
   "metadata": {},
   "outputs": [
    {
     "name": "stdout",
     "output_type": "stream",
     "text": [
      "Train Set\n",
      "[[4 5]\n",
      " [2 3]] \n",
      "\n",
      "[[10 11]\n",
      " [ 8  9]] \n",
      "\n",
      "[[16 17]\n",
      " [14 15]] \n",
      "\n",
      "\n",
      "Test Set\n",
      "[[0 1]] \n",
      "\n",
      "[[6 7]] \n",
      "\n",
      "[[12 13]] \n",
      "\n"
     ]
    }
   ],
   "source": [
    "# Splitting data into training and testing sets\n",
    "train_Xs, test_Xs = mv_data_split(data, test_size=0.33,\n",
    "                                  random_state=RANDOM_STATE)\n",
    "# Printing train set\n",
    "print('Train Set')\n",
    "for X in train_Xs:\n",
    "    print(X, '\\n')\n",
    "    \n",
    "# Printing test set\n",
    "print('\\nTest Set')\n",
    "for X in test_Xs:\n",
    "    print(X, '\\n')"
   ]
  }
 ],
 "metadata": {
  "kernelspec": {
   "display_name": "Python 3",
   "language": "python",
   "name": "python3"
  },
  "language_info": {
   "codemirror_mode": {
    "name": "ipython",
    "version": 3
   },
   "file_extension": ".py",
   "mimetype": "text/x-python",
   "name": "python",
   "nbconvert_exporter": "python",
   "pygments_lexer": "ipython3",
   "version": "3.6.7"
  }
 },
 "nbformat": 4,
 "nbformat_minor": 4
}
